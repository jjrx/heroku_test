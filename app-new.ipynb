{
 "cells": [
  {
   "cell_type": "code",
   "execution_count": 2,
   "metadata": {},
   "outputs": [],
   "source": [
    "import os\n",
    "import pandas as pd\n",
    "import tweepy\n",
    "import time\n",
    "import spacy\n",
    "import en_core_web_sm\n",
    "import matplotlib\n",
    "\n",
    "matplotlib.use(\"Agg\")\n",
    "from config import consumer_key, consumer_secret, access_token, access_token_secret\n",
    "\n",
    "# Get config variable from environment variables\n",
    "#consumer_key = os.environ.get(\"consumer_key\")\n",
    "#consumer_secret = os.environ.get(\"consumer_secret\")\n",
    "#access_token = os.environ.get(\"access_token\")\n",
    "#access_token_secret = os.environ.get(\"access_token_secret\")\n",
    "\n",
    "# Setup Tweepy API Authentication\n",
    "auth = tweepy.OAuthHandler(consumer_key, consumer_secret)\n",
    "auth.set_access_token(access_token, access_token_secret)\n",
    "api = tweepy.API(auth, parser=tweepy.parsers.JSONParser())\n",
    "\n",
    "# Load model\n",
    "nlp = en_core_web_sm.load()"
   ]
  },
  {
   "cell_type": "code",
   "execution_count": 3,
   "metadata": {},
   "outputs": [],
   "source": [
    "def update_twitter():\n",
    "\n",
    "    # Create dictionary to hold text and label entities\n",
    "    tweet_dict = {\"text\": [], \"label\": []}\n",
    "\n",
    "    mentions = api.search(q=\"@realDonaldTrump Congratulations\")\n",
    "    print(mentions[\"statuses\"][0][\"text\"])\n",
    "    words = []\n",
    "    try:\n",
    "        command = mentions[\"statuses\"][0][\"text\"]\n",
    "        words = command.split(\"Congratulations\")\n",
    "        target_account = words[1].strip()\n",
    "        print(target_account)\n",
    "        user_tweets = api.user_timeline(target_account, page=1)\n",
    "\n",
    "        # Loop through tweets\n",
    "        for tweet in user_tweets:\n",
    "            #print(tweet[\"user\"][\"name\"])\n",
    "            # Use nlp on each tweet\n",
    "            doc = nlp(tweet[\"text\"])\n",
    "            \n",
    "            # Check if nlp returns no entities\n",
    "            if not doc.ents:\n",
    "                print(\"No entities to visualize\")\n",
    "                print(\"----------------------------\")\n",
    "            else:\n",
    "                # Print the entities for each doc\n",
    "                for ent in doc.ents:\n",
    "                    # Store entities in dictionary\n",
    "                    tweet_dict[\"text\"].append(ent.text)\n",
    "                    tweet_dict[\"label\"].append(ent.label_)\n",
    "        # Convert dictionary to DataFrame\n",
    "        tweet_df = pd.DataFrame(tweet_dict)\n",
    "        tweet_df.head()\n",
    "\n",
    "        # Group by labels# Group\n",
    "        label_frequency = tweet_df.groupby([\"label\"]).count()\n",
    "\n",
    "        # Get bar graph as a figure and tweet chart\n",
    "        bar = label_frequency.plot.bar()\n",
    "        fig = bar.get_figure()\n",
    "        fig.savefig(\"box.png\")\n",
    "        api.update_with_media(\n",
    "            \"box.png\", \"Break down of tweet labels for \" + target_account\n",
    "        )\n",
    "    except Exception:\n",
    "        raise\n",
    "\n",
    "    \n",
    "\n"
   ]
  },
  {
   "cell_type": "code",
   "execution_count": 4,
   "metadata": {},
   "outputs": [
    {
     "name": "stdout",
     "output_type": "stream",
     "text": [
      "Updating Twitter\n",
      "RT @realDonaldTrump: Congratulations to @LenaEpstein of Michigan on a job well done. Also, thanks for your great support!\n",
      "to @LenaEpstein of Michigan on a job well done. Also, thanks for your great support!\n",
      "No entities to visualize\n",
      "----------------------------\n",
      "Updating Twitter\n",
      "RT @realDonaldTrump: Congratulations to @LenaEpstein of Michigan on a job well done. Also, thanks for your great support!\n",
      "to @LenaEpstein of Michigan on a job well done. Also, thanks for your great support!\n",
      "No entities to visualize\n",
      "----------------------------\n"
     ]
    }
   ],
   "source": [
    "days = 0\n",
    "while days < 2:\n",
    "    print(\"Updating Twitter\")\n",
    "\n",
    "    # Update the twitter\n",
    "    update_twitter()\n",
    "\n",
    "    # Wait a day\n",
    "    time.sleep(3)\n",
    "\n",
    "    # Update day counter\n",
    "    days += 1\n"
   ]
  },
  {
   "cell_type": "code",
   "execution_count": null,
   "metadata": {},
   "outputs": [],
   "source": [
    "\n"
   ]
  },
  {
   "cell_type": "code",
   "execution_count": null,
   "metadata": {},
   "outputs": [],
   "source": []
  }
 ],
 "metadata": {
  "kernelspec": {
   "display_name": "Python 3",
   "language": "python",
   "name": "python3"
  }
 },
 "nbformat": 4,
 "nbformat_minor": 2
}
